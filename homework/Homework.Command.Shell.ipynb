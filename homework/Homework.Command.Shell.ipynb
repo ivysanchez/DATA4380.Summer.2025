{
 "cells": [
  {
   "cell_type": "markdown",
   "id": "8616c3c2",
   "metadata": {},
   "source": [
    "# Unix Shell\n",
    "\n",
    "There is a lot that can be done on the Unix shell command prompt. For homework, we will do some useful manipulations of CSV files.\n",
    "\n",
    "There is plenty of material online that will help you figure out how to do various tasks on the command line. Some example resources I found by googling:\n",
    "\n",
    "* Paths and Wildcards: https://www.warp.dev/terminus/linux-wildcards\n",
    "* General introduction to shell: https://github-pages.ucl.ac.uk/RCPSTrainingMaterials/HPCandHTCusingLegion/2_intro_to_shell.html\n",
    "* Manual pages: https://www.geeksforgeeks.org/linux-man-page-entries-different-types/?ref=ml_lbp\n",
    "* Chaining commands: https://www.geeksforgeeks.org/chaining-commands-in-linux/?ref=ml_lbp\n",
    "* Piping: https://www.geeksforgeeks.org/piping-in-unix-or-linux/\n",
    "* Using sed: https://www.geeksforgeeks.org/sed-command-linux-set-2/?ref=ml_lbp\n",
    "* Various Unix commands: https://www.geeksforgeeks.org/linux-commands/?ref=lbp\n",
    "* Cheat sheets:\n",
    "    * https://www.stationx.net/unix-commands-cheat-sheet/\n",
    "    * https://cheatography.com/davechild/cheat-sheets/linux-command-line/\n",
    "    * https://www.theknowledgeacademy.com/blog/unix-commands-cheat-sheet/\n",
    "    \n",
    "These aren't necessarily the best resources. Feel free to search for better ones. Also, don't forget that Unix has built-in manual pages for all of its commands. Just type `man <command>` at the command prompt. Use the space-bar to scroll through the documentation and \"q\" to exit."
   ]
  },
  {
   "cell_type": "markdown",
   "id": "f0e82173",
   "metadata": {},
   "source": [
    "## Homework (Due Friday 6/13)\n",
    "\n",
    "### Setup \n",
    "\n",
    "1. Make sure you have setup:\n",
    "    * Laptop setup with python, jupyter, and usual Data Science stack install via pip.\n",
    "    * Note if you are using Windows, you must setup via WSL.\n",
    "        * Must know how to read files in Windows disks from WSL Ubuntu VM?\n",
    "        * Must know how to read files in your WSL Ubuntu VM from Windows?\n",
    "\n",
    "2. Make sure you are setup to use GitHub on the command line in you Linux / MacOS environment:\n",
    "    * Make sure GitHub is properly setup\n",
    "        * Authentication\n",
    "        * Demonstrate you can push from the command prompt.\n",
    "    * Create a new repository for you work. Name it appropriately. Make it public. \n",
    "    * Organize it. e.g. You will do various projects. e.g. Sub-directories for each project.\n",
    "\n",
    "3. Install Kaggle API:\n",
    "    * Install [kaggle API](https://www.kaggle.com/docs/api).\n",
    "        * Setup your PATH environment variable.\n",
    "        * Be able to edit text files\n",
    "\n",
    "4. Create a directory in your Linux / MacOS filesystem where you will store the files. We will be using CSV files from the Kaggle challenges and datasets listed here. Download and unzip all of the datasets **using the Kaggle API**.\n",
    "    * https://www.kaggle.com/competitions/diabetes-prediction-with-nn\n",
    "    * https://www.kaggle.com/datasets/rishidamarla/heart-disease-prediction\n",
    "    * https://www.kaggle.com/competitions/used-car-price-prediction-competition\n",
    "    * https://www.kaggle.com/datasets/yasserh/housing-prices-dataset\n",
    "    * https://www.kaggle.com/datasets/simtoor/mall-customers\n",
    "    * https://www.kaggle.com/competitions/business-research-methods-world-university-rankings\n",
    "    * https://www.kaggle.com/datasets/m5anas/cancer-patient-data-sets\n",
    "        \n",
    "5. Setup for homework submission.\n",
    "    * Create a homework directory in your GitHub Repo where you will submit your solutions. \n",
    "    * Create a symbolic link from this directory to where you stored the downloaded datasets in step 4 below.\n",
    "    * **Do not commit any datafiles into GitHub.**\n",
    "        \n",
    "### Exercises        \n",
    "\n",
    "Perform all of these tasks on the Unix command prompt. Some may require several commands. Many will require chaining commands together. Once you figure out how to perform the task, copy paste the command(s) into a notebook that you will submit.\n",
    "\n",
    "\n",
    "1. Organize your dataset directory. Make a new directory for the original zip files, and move the files there. In case you accidentally mess up one of the CSV files, you'll be able unzip the data again. \n",
    "\n",
    "Hint: use `mkdir` and `mv` commands with appropriate wildcards.\n",
    "\n",
    "2. The \"diabetes_prediction_dataset.csv\" file has a lot of entries. Create 3 new CSV files, each with about 1/3 of the data.\n",
    "\n",
    "Hints: \n",
    "* Use `head` to get first line.  \n",
    "* First create 3 files with just the first line by redirecting output of `head` into a file using `>`.\n",
    "* Use `wc` to count the number of entries\n",
    "* Chain/pipe `head` and `tail` to select specific lines, redirecting output to append to the 3 files you created using `>>`.\n",
    "\n",
    "\n",
    "3. Create 2 new CSV files from `Heart_Disease_Prediction.csv`, one containing rows with \"Presence\" label and another with \"Absence\" label. Make sure that the first line of each file contains the field names. \n",
    "\n",
    "Hints: \n",
    "* Use `head` to get first line.  \n",
    "* First create 2 files with just the first line by redirecting output of `head` into a file using `>`.\n",
    "* Use `grep` to select lines that contain \"Absence\" or \"Presence\" and append the output to the appropriate file created in the previous step.\n",
    "\n",
    "\n",
    "4. What fraction of cars in `car_web_scraped_dataset.csv` have had no accidents?\n",
    "\n",
    "Hints:\n",
    "* Use `grep` to select the appropriate lines.\n",
    "* Pipe the output of grep into `wc` (using `|`) to count the lines.\n",
    "\n",
    "\n",
    "5. Make the following replacements in `Housing.csv`, output the result into a new CSV:\n",
    "\n",
    "* yes -> 1\n",
    "* no -> 0\n",
    "* unfurnished -> 0\n",
    "* furnished -> 1\n",
    "* semi-furnished -> 2\n",
    "    \n",
    "Hints:\n",
    "* Use `sed` to do the replacement.\n",
    "* Use pipes to chain multiple `sed` commands.\n",
    "* To avoid replacing \"unfurnished\" or \"semi-furnished\" when performing the \"furnished\" replacement, try replacing \",furnished\" with \",1\".\n",
    "\n",
    "\n",
    "6. Create a new CSV files from `Mall_Customers`, removing \"CustomerID\" column.\n",
    "\n",
    "Hints:\n",
    "* Use `cut` command\n",
    "* Default separator for `cut` is the space character. For CSV, you have to use option `-d ','`.\n",
    "\n",
    "\n",
    "7. Create a new file that contains the sum of the following fields for each row:\n",
    "    * Research Quality Score\n",
    "    * Industry Score\n",
    "    * International Outlook\n",
    "    * Research Environment Score\n",
    "    \n",
    "Hints:\n",
    "* Use `cut` to select the correct columns.\n",
    "* Use `tr` to replace ',' with '+'.\n",
    "* Pipe output into `bc` to compute the sum.\n",
    "\n",
    "\n",
    "8. Sort the `cancer patient data sets.csv` file by age. Make sure the output is a readable CSV file.\n",
    "\n",
    "Hints:\n",
    "* Use sort with `-n`, `-t`, and `-k` options. "
   ]
  },
  {
   "cell_type": "code",
   "execution_count": null,
   "id": "4cf6b4dc-904c-4af7-a6a3-4c30bfad1fc0",
   "metadata": {},
   "outputs": [],
   "source": [
    "# Exercise 1 \n",
    "!mkdir original_zips\n",
    "!mv *.zip original_zips/"
   ]
  },
  {
   "cell_type": "code",
   "execution_count": 23,
   "id": "23ff619c-77e5-433f-91fe-b1815a40e8fd",
   "metadata": {},
   "outputs": [
    {
     "name": "stdout",
     "output_type": "stream",
     "text": [
      "tail: stdout: Broken pipe\n",
      "tail: stdout: Broken pipe\n",
      "   33334 part1.csv\n",
      "   33334 part2.csv\n",
      "   33335 part3.csv\n",
      "  100003 total\n"
     ]
    }
   ],
   "source": [
    "# Exercise 2\n",
    "\n",
    "# save header to each file\n",
    "!head -1 diabetes_prediction_dataset.csv > part1.csv\n",
    "!head -1 diabetes_prediction_dataset.csv > part2.csv\n",
    "!head -1 diabetes_prediction_dataset.csv > part3.csv\n",
    "\n",
    "# append 33,333 data lines to each part\n",
    "!tail -n +2 diabetes_prediction_dataset.csv | head -n 33333 >> part1.csv\n",
    "!tail -n +33335 diabetes_prediction_dataset.csv | head -n 33333 >> part2.csv\n",
    "!tail -n +66668 diabetes_prediction_dataset.csv >> part3.csv\n",
    "\n",
    "\n",
    "## output \n",
    "!wc -l part1.csv part2.csv part3.csv"
   ]
  },
  {
   "cell_type": "code",
   "execution_count": 24,
   "id": "c4a62f16-0e4d-42ff-8316-9372039764ef",
   "metadata": {},
   "outputs": [
    {
     "name": "stdout",
     "output_type": "stream",
     "text": [
      "     151 heart_absence.csv\n",
      "     121 heart_presence.csv\n",
      "     272 total\n"
     ]
    }
   ],
   "source": [
    "# Exercise 3\n",
    "\n",
    "!head -n 1 Heart_Disease_Prediction.csv > heart_presence.csv\n",
    "!head -n 1 Heart_Disease_Prediction.csv > heart_absence.csv\n",
    "\n",
    "!grep \"Presence\" Heart_Disease_Prediction.csv >> heart_presence.csv\n",
    "!grep \"Absence\" Heart_Disease_Prediction.csv >> heart_absence.csv\n",
    "\n",
    "## output\n",
    "!wc -l heart_*.csv"
   ]
  },
  {
   "cell_type": "code",
   "execution_count": 25,
   "id": "7e9e0e49",
   "metadata": {},
   "outputs": [
    {
     "name": "stdout",
     "output_type": "stream",
     "text": [
      "    2840\n",
      "    2223\n",
      ".7827\n"
     ]
    }
   ],
   "source": [
    "# Exercise 4\n",
    "\n",
    "!tail -n +2 car_web_scraped_dataset.csv | wc -l\n",
    "!grep -i \"no accident\" car_web_scraped_dataset.csv | wc -l\n",
    "\n",
    "## output\n",
    "!echo \"scale=4;$(grep -i 'no accident' car_web_scraped_dataset.csv | wc -l) / $(tail -n +2 car_web_scraped_dataset.csv | wc -l)\" | bc\n"
   ]
  },
  {
   "cell_type": "code",
   "execution_count": 29,
   "id": "a77028ce-5c96-44eb-9b2b-2e34cc227955",
   "metadata": {},
   "outputs": [
    {
     "name": "stdout",
     "output_type": "stream",
     "text": [
      "price,area,bedrooms,bathrooms,stories,mainroad,guestroom,basement,hotwaterheating,airconditioning,parking,prefarea,furnishingstatus\n",
      "13300000,7420,4,2,3,1,0,0,0,1,2,1,1\n",
      "12250000,8960,4,4,4,1,0,0,0,1,3,0,1\n",
      "12250000,9960,3,2,2,1,0,1,0,0,2,1,2\n",
      "12215000,7500,4,2,2,1,0,1,0,1,3,1,1\n",
      "11410000,7420,4,1,2,1,1,1,0,1,2,0,1\n",
      "10850000,7500,3,3,1,1,0,1,0,1,2,1,2\n",
      "10150000,8580,4,3,4,1,0,0,0,1,2,1,2\n",
      "10150000,16200,5,3,2,1,0,0,0,0,0,0,0\n",
      "9870000,8100,4,1,2,1,1,1,0,1,2,1,1\n"
     ]
    }
   ],
   "source": [
    "# Exercise 5\n",
    "!cat Housing.csv \\\n",
    "| sed 's/yes/1/g' \\\n",
    "| sed 's/no/0/g' \\\n",
    "| sed 's/,unfurnished/,0/g' \\\n",
    "| sed 's/,semi-furnished/,2/g' \\\n",
    "| sed 's/,furnished/,1/g' \\\n",
    "> Housing_cleaned.csv\n",
    "\n",
    "## output\n",
    "!head Housing_cleaned.csv\n"
   ]
  },
  {
   "cell_type": "code",
   "execution_count": 27,
   "id": "5f57d4ec-8177-4a4f-9bde-da736553fefb",
   "metadata": {},
   "outputs": [
    {
     "name": "stdout",
     "output_type": "stream",
     "text": [
      "Gender,Age,Annual Income (k$),Spending Score (1-100)\n"
     ]
    }
   ],
   "source": [
    "# Exercise 6\n",
    "\n",
    "!cut -d',' -f2- Mall_Customers.csv > Mall_Customers_no_id.csv\n",
    "\n",
    "## output\n",
    "!head -n 1 Mall_Customers_no_id.csv\n"
   ]
  },
  {
   "cell_type": "code",
   "execution_count": 36,
   "id": "2ffe8050-d4cd-4e63-a232-3304f588cc8d",
   "metadata": {},
   "outputs": [
    {
     "name": "stdout",
     "output_type": "stream",
     "text": [
      "\n",
      "Parse error: bad character '�'\n",
      "    <stdin>:161\n",
      "\n",
      "378.2\n",
      "367.2\n",
      "340.5\n",
      "361.2\n",
      "353.3\n"
     ]
    }
   ],
   "source": [
    "# Exercise 7\n",
    "\n",
    "!tail -n +2 \"world all university rank and rank score.csv\" \\\n",
    "| cut -d',' -f5,6,7,8 \\\n",
    "| tr ',' '+' \\\n",
    "| bc > university_total_scores.txt\n",
    "\n",
    "## output\n",
    "!head -n 5 university_total_scores.txt"
   ]
  },
  {
   "cell_type": "code",
   "execution_count": 6,
   "id": "e042b4f8-2d8d-4e44-a889-1c64ce4a25c6",
   "metadata": {},
   "outputs": [
    {
     "name": "stdout",
     "output_type": "stream",
     "text": [
      "index,Patient Id,Age,Gender,Air Pollution,Alcohol use,Dust Allergy,OccuPational Hazards,Genetic Risk,chronic Lung Disease,Balanced Diet,Obesity,Smoking,Passive Smoker,Chest Pain,Coughing of Blood,Fatigue,Weight Loss,Shortness of Breath,Wheezing,Swallowing Difficulty,Clubbing of Finger Nails,Frequent Cold,Dry Cough,Snoring,Level\n",
      "130,P215,14,1,2,4,5,6,5,5,4,6,5,4,6,5,5,3,2,1,4,7,2,1,6,Medium\n",
      "19,P115,14,1,2,4,5,6,5,5,4,6,5,4,6,5,5,3,2,1,4,7,2,1,6,Medium\n",
      "241,P315,14,1,2,4,5,6,5,5,4,6,5,4,6,5,5,3,2,1,4,7,2,1,6,Medium\n",
      "35,P13,14,1,2,4,5,6,5,5,4,6,5,4,6,5,5,3,2,1,4,7,2,1,6,Medium\n",
      "352,P415,14,1,2,4,5,6,5,5,4,6,5,4,6,5,5,3,2,1,4,7,2,1,6,Medium\n",
      "574,P615,14,1,2,4,5,6,5,5,4,6,5,4,6,5,5,3,2,1,4,7,2,1,6,Medium\n",
      "685,P715,14,1,2,4,5,6,5,5,4,6,5,4,6,5,5,3,2,1,4,7,2,1,6,Medium\n",
      "796,P815,14,1,2,4,5,6,5,5,4,6,5,4,6,5,5,3,2,1,4,7,2,1,6,Medium\n",
      "907,P915,14,1,2,4,5,6,5,5,4,6,5,4,6,5,5,3,2,1,4,7,2,1,6,Medium\n"
     ]
    }
   ],
   "source": [
    "# Exercise 8\n",
    "\n",
    "!(head -n 1 \"cancer patient data sets.csv\" && tail -n +2 \"cancer patient data sets.csv\" | sort -t',' -k3,3n) > sorted_cancer_data.csv\n",
    "\n",
    "## output\n",
    "!head sorted_cancer_data.csv"
   ]
  },
  {
   "cell_type": "code",
   "execution_count": null,
   "id": "19d2e235-dc38-4337-937b-9c509d564199",
   "metadata": {},
   "outputs": [],
   "source": []
  }
 ],
 "metadata": {
  "kernelspec": {
   "display_name": "Python 3 (ipykernel)",
   "language": "python",
   "name": "python3"
  },
  "language_info": {
   "codemirror_mode": {
    "name": "ipython",
    "version": 3
   },
   "file_extension": ".py",
   "mimetype": "text/x-python",
   "name": "python",
   "nbconvert_exporter": "python",
   "pygments_lexer": "ipython3",
   "version": "3.13.1"
  }
 },
 "nbformat": 4,
 "nbformat_minor": 5
}
